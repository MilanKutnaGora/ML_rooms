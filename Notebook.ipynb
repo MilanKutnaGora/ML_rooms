{
 "cells": [
  {
   "cell_type": "code",
   "execution_count": 1,
   "id": "initial_id",
   "metadata": {
    "collapsed": true,
    "ExecuteTime": {
     "end_time": "2024-09-14T16:28:34.606568100Z",
     "start_time": "2024-09-14T16:28:34.574500600Z"
    }
   },
   "outputs": [
    {
     "data": {
      "text/plain": "{'cells': [{'cell_type': 'code',\n   'execution_count': {},\n   'metadata': {},\n   'source': ['from plot_drawer import PlotDrawer\\n',\n    'import matplotlib.pyplot as plt\\n',\n    '\\n',\n    'drawer = PlotDrawer()\\n',\n    \"json_file = 'https://ai-process-sandy.s3.eu-west-1.amazonaws.com/purge/deviation.json'\\n\",\n    'plot_paths = drawer.draw_plots(json_file)\\n',\n    '\\n',\n    'for path in plot_paths:\\n',\n    '    img = plt.imread(path)\\n',\n    '    plt.figure(figsize=(12, 8))\\n',\n    '    plt.imshow(img)\\n',\n    \"    plt.axis('off')\\n\",\n    '    plt.show()']}],\n 'metadata': {'kernelspec': {'display_name': 'Python 3',\n   'language': 'python',\n   'name': 'python3'},\n  'language_info': {'codemirror_mode': {'name': 'ipython', 'version': 3},\n   'file_extension': '.py',\n   'mimetype': 'text/x-python',\n   'name': 'python',\n   'nbconvert_exporter': 'python',\n   'pygments_lexer': 'ipython3',\n   'version': '3.8.5'}},\n 'nbformat': 4,\n 'nbformat_minor': 4}"
     },
     "execution_count": 1,
     "metadata": {},
     "output_type": "execute_result"
    }
   ],
   "source": [
    "{\n",
    " \"cells\": [\n",
    "  {\n",
    "   \"cell_type\": \"code\",\n",
    "   \"execution_count\": {},\n",
    "   \"metadata\": {},\n",
    "   \"source\": [\n",
    "    \"from plot_drawer import PlotDrawer\\n\",\n",
    "    \"import matplotlib.pyplot as plt\\n\",\n",
    "    \"\\n\",\n",
    "    \"drawer = PlotDrawer()\\n\",\n",
    "    \"json_file = 'https://ai-process-sandy.s3.eu-west-1.amazonaws.com/purge/deviation.json'\\n\",\n",
    "    \"plot_paths = drawer.draw_plots(json_file)\\n\",\n",
    "    \"\\n\",\n",
    "    \"for path in plot_paths:\\n\",\n",
    "    \"    img = plt.imread(path)\\n\",\n",
    "    \"    plt.figure(figsize=(12, 8))\\n\",\n",
    "    \"    plt.imshow(img)\\n\",\n",
    "    \"    plt.axis('off')\\n\",\n",
    "    \"    plt.show()\"\n",
    "   ]\n",
    "  }\n",
    " ],\n",
    " \"metadata\": {\n",
    "  \"kernelspec\": {\n",
    "   \"display_name\": \"Python 3\",\n",
    "   \"language\": \"python\",\n",
    "   \"name\": \"python3\"\n",
    "  },\n",
    "  \"language_info\": {\n",
    "   \"codemirror_mode\": {\n",
    "    \"name\": \"ipython\",\n",
    "    \"version\": 3\n",
    "   },\n",
    "   \"file_extension\": \".py\",\n",
    "   \"mimetype\": \"text/x-python\",\n",
    "   \"name\": \"python\",\n",
    "   \"nbconvert_exporter\": \"python\",\n",
    "   \"pygments_lexer\": \"ipython3\",\n",
    "   \"version\": \"3.8.5\"\n",
    "  }\n",
    " },\n",
    " \"nbformat\": 4,\n",
    " \"nbformat_minor\": 4\n",
    "}"
   ]
  },
  {
   "cell_type": "code",
   "execution_count": 1,
   "outputs": [],
   "source": [],
   "metadata": {
    "collapsed": false,
    "ExecuteTime": {
     "end_time": "2024-09-14T16:30:04.916484300Z",
     "start_time": "2024-09-14T16:30:04.903467700Z"
    }
   },
   "id": "c36c96b8f059d234"
  },
  {
   "cell_type": "code",
   "execution_count": null,
   "outputs": [],
   "source": [],
   "metadata": {
    "collapsed": false
   },
   "id": "478e49265595a0bc"
  },
  {
   "cell_type": "code",
   "execution_count": 1,
   "outputs": [],
   "source": [],
   "metadata": {
    "collapsed": false,
    "ExecuteTime": {
     "end_time": "2024-09-14T16:33:52.026977400Z",
     "start_time": "2024-09-14T16:33:52.010583900Z"
    }
   },
   "id": "90bfcb592586c086"
  },
  {
   "cell_type": "code",
   "execution_count": null,
   "outputs": [],
   "source": [],
   "metadata": {
    "collapsed": false
   },
   "id": "a8fa9f56f18e2ea0"
  }
 ],
 "metadata": {
  "kernelspec": {
   "display_name": "Python 3",
   "language": "python",
   "name": "python3"
  },
  "language_info": {
   "codemirror_mode": {
    "name": "ipython",
    "version": 2
   },
   "file_extension": ".py",
   "mimetype": "text/x-python",
   "name": "python",
   "nbconvert_exporter": "python",
   "pygments_lexer": "ipython2",
   "version": "2.7.6"
  }
 },
 "nbformat": 4,
 "nbformat_minor": 5
}
